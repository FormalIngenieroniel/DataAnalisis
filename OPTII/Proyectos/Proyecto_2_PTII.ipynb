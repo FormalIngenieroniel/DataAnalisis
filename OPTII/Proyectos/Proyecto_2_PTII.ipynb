{
  "nbformat": 4,
  "nbformat_minor": 0,
  "metadata": {
    "colab": {
      "provenance": []
    },
    "kernelspec": {
      "name": "python3",
      "display_name": "Python 3"
    },
    "language_info": {
      "name": "python"
    }
  },
  "cells": [
    {
      "cell_type": "markdown",
      "source": [
        "### **PASO 8:**  \n",
        "Se cargar el pipeline que se descargo en la parte I y se prueba con un dato de entrada en otro archivo."
      ],
      "metadata": {
        "id": "nH22Ir4P9W1g"
      }
    },
    {
      "cell_type": "code",
      "source": [
        "import joblib\n",
        "\n",
        "def drop_columns(X, columns_to_drop):\n",
        "    return X.drop(columns=[col for col in columns_to_drop if col in X.columns])\n",
        "\n",
        "transformer = joblib.load(\"/content/transformer.joblib\")\n",
        "\n",
        "transformer"
      ],
      "metadata": {
        "colab": {
          "base_uri": "https://localhost:8080/",
          "height": 174
        },
        "id": "vIMjrqt7tXOV",
        "outputId": "b8d62a34-8b8e-4c08-c2bd-3ca3ac4e451e"
      },
      "execution_count": null,
      "outputs": [
        {
          "output_type": "execute_result",
          "data": {
            "text/plain": [
              "ColumnTransformer(transformers=[('Numerico',\n",
              "                                 Pipeline(steps=[('Escalador', MinMaxScaler()),\n",
              "                                                 ('Distribución',\n",
              "                                                  PowerTransformer(standardize=False))]),\n",
              "                                 [0, 5, 9, 11, 12, 13, 14]),\n",
              "                                ('Categorico_1',\n",
              "                                 Pipeline(steps=[('Imputador',\n",
              "                                                  SimpleImputer(strategy='most_frequent')),\n",
              "                                                 ('EscaladorOHT',\n",
              "                                                  OneHotEncoder(sparse=False))]),\n",
              "                                 [1, 2, 4, 5, 6, 7, 8, 10, 14, 15]),\n",
              "                                ('Categorico_2',\n",
              "                                 Pipeline(steps=[('Imputador',\n",
              "                                                  SimpleImputer(strategy='most_frequent')),\n",
              "                                                 ('EscaladorORD',\n",
              "                                                  OrdinalEncoder())]),\n",
              "                                 [3]),\n",
              "                                ('drop_columns',\n",
              "                                 Pipeline(steps=[('drop_columns',\n",
              "                                                  FunctionTransformer(func=<function drop_columns at 0x7a8be43ff760>,\n",
              "                                                                      kw_args={'columns_to_drop': [4,\n",
              "                                                                                                   15,\n",
              "                                                                                                   14,\n",
              "                                                                                                   13]}))]),\n",
              "                                 [4, 15, 14, 13])])"
            ],
            "text/html": [
              "<style>#sk-container-id-1 {color: black;background-color: white;}#sk-container-id-1 pre{padding: 0;}#sk-container-id-1 div.sk-toggleable {background-color: white;}#sk-container-id-1 label.sk-toggleable__label {cursor: pointer;display: block;width: 100%;margin-bottom: 0;padding: 0.3em;box-sizing: border-box;text-align: center;}#sk-container-id-1 label.sk-toggleable__label-arrow:before {content: \"▸\";float: left;margin-right: 0.25em;color: #696969;}#sk-container-id-1 label.sk-toggleable__label-arrow:hover:before {color: black;}#sk-container-id-1 div.sk-estimator:hover label.sk-toggleable__label-arrow:before {color: black;}#sk-container-id-1 div.sk-toggleable__content {max-height: 0;max-width: 0;overflow: hidden;text-align: left;background-color: #f0f8ff;}#sk-container-id-1 div.sk-toggleable__content pre {margin: 0.2em;color: black;border-radius: 0.25em;background-color: #f0f8ff;}#sk-container-id-1 input.sk-toggleable__control:checked~div.sk-toggleable__content {max-height: 200px;max-width: 100%;overflow: auto;}#sk-container-id-1 input.sk-toggleable__control:checked~label.sk-toggleable__label-arrow:before {content: \"▾\";}#sk-container-id-1 div.sk-estimator input.sk-toggleable__control:checked~label.sk-toggleable__label {background-color: #d4ebff;}#sk-container-id-1 div.sk-label input.sk-toggleable__control:checked~label.sk-toggleable__label {background-color: #d4ebff;}#sk-container-id-1 input.sk-hidden--visually {border: 0;clip: rect(1px 1px 1px 1px);clip: rect(1px, 1px, 1px, 1px);height: 1px;margin: -1px;overflow: hidden;padding: 0;position: absolute;width: 1px;}#sk-container-id-1 div.sk-estimator {font-family: monospace;background-color: #f0f8ff;border: 1px dotted black;border-radius: 0.25em;box-sizing: border-box;margin-bottom: 0.5em;}#sk-container-id-1 div.sk-estimator:hover {background-color: #d4ebff;}#sk-container-id-1 div.sk-parallel-item::after {content: \"\";width: 100%;border-bottom: 1px solid gray;flex-grow: 1;}#sk-container-id-1 div.sk-label:hover label.sk-toggleable__label {background-color: #d4ebff;}#sk-container-id-1 div.sk-serial::before {content: \"\";position: absolute;border-left: 1px solid gray;box-sizing: border-box;top: 0;bottom: 0;left: 50%;z-index: 0;}#sk-container-id-1 div.sk-serial {display: flex;flex-direction: column;align-items: center;background-color: white;padding-right: 0.2em;padding-left: 0.2em;position: relative;}#sk-container-id-1 div.sk-item {position: relative;z-index: 1;}#sk-container-id-1 div.sk-parallel {display: flex;align-items: stretch;justify-content: center;background-color: white;position: relative;}#sk-container-id-1 div.sk-item::before, #sk-container-id-1 div.sk-parallel-item::before {content: \"\";position: absolute;border-left: 1px solid gray;box-sizing: border-box;top: 0;bottom: 0;left: 50%;z-index: -1;}#sk-container-id-1 div.sk-parallel-item {display: flex;flex-direction: column;z-index: 1;position: relative;background-color: white;}#sk-container-id-1 div.sk-parallel-item:first-child::after {align-self: flex-end;width: 50%;}#sk-container-id-1 div.sk-parallel-item:last-child::after {align-self: flex-start;width: 50%;}#sk-container-id-1 div.sk-parallel-item:only-child::after {width: 0;}#sk-container-id-1 div.sk-dashed-wrapped {border: 1px dashed gray;margin: 0 0.4em 0.5em 0.4em;box-sizing: border-box;padding-bottom: 0.4em;background-color: white;}#sk-container-id-1 div.sk-label label {font-family: monospace;font-weight: bold;display: inline-block;line-height: 1.2em;}#sk-container-id-1 div.sk-label-container {text-align: center;}#sk-container-id-1 div.sk-container {/* jupyter's `normalize.less` sets `[hidden] { display: none; }` but bootstrap.min.css set `[hidden] { display: none !important; }` so we also need the `!important` here to be able to override the default hidden behavior on the sphinx rendered scikit-learn.org. See: https://github.com/scikit-learn/scikit-learn/issues/21755 */display: inline-block !important;position: relative;}#sk-container-id-1 div.sk-text-repr-fallback {display: none;}</style><div id=\"sk-container-id-1\" class=\"sk-top-container\"><div class=\"sk-text-repr-fallback\"><pre>ColumnTransformer(transformers=[(&#x27;Numerico&#x27;,\n",
              "                                 Pipeline(steps=[(&#x27;Escalador&#x27;, MinMaxScaler()),\n",
              "                                                 (&#x27;Distribución&#x27;,\n",
              "                                                  PowerTransformer(standardize=False))]),\n",
              "                                 [0, 5, 9, 11, 12, 13, 14]),\n",
              "                                (&#x27;Categorico_1&#x27;,\n",
              "                                 Pipeline(steps=[(&#x27;Imputador&#x27;,\n",
              "                                                  SimpleImputer(strategy=&#x27;most_frequent&#x27;)),\n",
              "                                                 (&#x27;EscaladorOHT&#x27;,\n",
              "                                                  OneHotEncoder(sparse=False))]),\n",
              "                                 [1, 2, 4, 5, 6, 7, 8, 10, 14, 15]),\n",
              "                                (&#x27;Categorico_2&#x27;,\n",
              "                                 Pipeline(steps=[(&#x27;Imputador&#x27;,\n",
              "                                                  SimpleImputer(strategy=&#x27;most_frequent&#x27;)),\n",
              "                                                 (&#x27;EscaladorORD&#x27;,\n",
              "                                                  OrdinalEncoder())]),\n",
              "                                 [3]),\n",
              "                                (&#x27;drop_columns&#x27;,\n",
              "                                 Pipeline(steps=[(&#x27;drop_columns&#x27;,\n",
              "                                                  FunctionTransformer(func=&lt;function drop_columns at 0x7a8be43ff760&gt;,\n",
              "                                                                      kw_args={&#x27;columns_to_drop&#x27;: [4,\n",
              "                                                                                                   15,\n",
              "                                                                                                   14,\n",
              "                                                                                                   13]}))]),\n",
              "                                 [4, 15, 14, 13])])</pre><b>In a Jupyter environment, please rerun this cell to show the HTML representation or trust the notebook. <br />On GitHub, the HTML representation is unable to render, please try loading this page with nbviewer.org.</b></div><div class=\"sk-container\" hidden><div class=\"sk-item sk-dashed-wrapped\"><div class=\"sk-label-container\"><div class=\"sk-label sk-toggleable\"><input class=\"sk-toggleable__control sk-hidden--visually\" id=\"sk-estimator-id-1\" type=\"checkbox\" ><label for=\"sk-estimator-id-1\" class=\"sk-toggleable__label sk-toggleable__label-arrow\">ColumnTransformer</label><div class=\"sk-toggleable__content\"><pre>ColumnTransformer(transformers=[(&#x27;Numerico&#x27;,\n",
              "                                 Pipeline(steps=[(&#x27;Escalador&#x27;, MinMaxScaler()),\n",
              "                                                 (&#x27;Distribución&#x27;,\n",
              "                                                  PowerTransformer(standardize=False))]),\n",
              "                                 [0, 5, 9, 11, 12, 13, 14]),\n",
              "                                (&#x27;Categorico_1&#x27;,\n",
              "                                 Pipeline(steps=[(&#x27;Imputador&#x27;,\n",
              "                                                  SimpleImputer(strategy=&#x27;most_frequent&#x27;)),\n",
              "                                                 (&#x27;EscaladorOHT&#x27;,\n",
              "                                                  OneHotEncoder(sparse=False))]),\n",
              "                                 [1, 2, 4, 5, 6, 7, 8, 10, 14, 15]),\n",
              "                                (&#x27;Categorico_2&#x27;,\n",
              "                                 Pipeline(steps=[(&#x27;Imputador&#x27;,\n",
              "                                                  SimpleImputer(strategy=&#x27;most_frequent&#x27;)),\n",
              "                                                 (&#x27;EscaladorORD&#x27;,\n",
              "                                                  OrdinalEncoder())]),\n",
              "                                 [3]),\n",
              "                                (&#x27;drop_columns&#x27;,\n",
              "                                 Pipeline(steps=[(&#x27;drop_columns&#x27;,\n",
              "                                                  FunctionTransformer(func=&lt;function drop_columns at 0x7a8be43ff760&gt;,\n",
              "                                                                      kw_args={&#x27;columns_to_drop&#x27;: [4,\n",
              "                                                                                                   15,\n",
              "                                                                                                   14,\n",
              "                                                                                                   13]}))]),\n",
              "                                 [4, 15, 14, 13])])</pre></div></div></div><div class=\"sk-parallel\"><div class=\"sk-parallel-item\"><div class=\"sk-item\"><div class=\"sk-label-container\"><div class=\"sk-label sk-toggleable\"><input class=\"sk-toggleable__control sk-hidden--visually\" id=\"sk-estimator-id-2\" type=\"checkbox\" ><label for=\"sk-estimator-id-2\" class=\"sk-toggleable__label sk-toggleable__label-arrow\">Numerico</label><div class=\"sk-toggleable__content\"><pre>[0, 5, 9, 11, 12, 13, 14]</pre></div></div></div><div class=\"sk-serial\"><div class=\"sk-item\"><div class=\"sk-serial\"><div class=\"sk-item\"><div class=\"sk-estimator sk-toggleable\"><input class=\"sk-toggleable__control sk-hidden--visually\" id=\"sk-estimator-id-3\" type=\"checkbox\" ><label for=\"sk-estimator-id-3\" class=\"sk-toggleable__label sk-toggleable__label-arrow\">MinMaxScaler</label><div class=\"sk-toggleable__content\"><pre>MinMaxScaler()</pre></div></div></div><div class=\"sk-item\"><div class=\"sk-estimator sk-toggleable\"><input class=\"sk-toggleable__control sk-hidden--visually\" id=\"sk-estimator-id-4\" type=\"checkbox\" ><label for=\"sk-estimator-id-4\" class=\"sk-toggleable__label sk-toggleable__label-arrow\">PowerTransformer</label><div class=\"sk-toggleable__content\"><pre>PowerTransformer(standardize=False)</pre></div></div></div></div></div></div></div></div><div class=\"sk-parallel-item\"><div class=\"sk-item\"><div class=\"sk-label-container\"><div class=\"sk-label sk-toggleable\"><input class=\"sk-toggleable__control sk-hidden--visually\" id=\"sk-estimator-id-5\" type=\"checkbox\" ><label for=\"sk-estimator-id-5\" class=\"sk-toggleable__label sk-toggleable__label-arrow\">Categorico_1</label><div class=\"sk-toggleable__content\"><pre>[1, 2, 4, 5, 6, 7, 8, 10, 14, 15]</pre></div></div></div><div class=\"sk-serial\"><div class=\"sk-item\"><div class=\"sk-serial\"><div class=\"sk-item\"><div class=\"sk-estimator sk-toggleable\"><input class=\"sk-toggleable__control sk-hidden--visually\" id=\"sk-estimator-id-6\" type=\"checkbox\" ><label for=\"sk-estimator-id-6\" class=\"sk-toggleable__label sk-toggleable__label-arrow\">SimpleImputer</label><div class=\"sk-toggleable__content\"><pre>SimpleImputer(strategy=&#x27;most_frequent&#x27;)</pre></div></div></div><div class=\"sk-item\"><div class=\"sk-estimator sk-toggleable\"><input class=\"sk-toggleable__control sk-hidden--visually\" id=\"sk-estimator-id-7\" type=\"checkbox\" ><label for=\"sk-estimator-id-7\" class=\"sk-toggleable__label sk-toggleable__label-arrow\">OneHotEncoder</label><div class=\"sk-toggleable__content\"><pre>OneHotEncoder(sparse=False)</pre></div></div></div></div></div></div></div></div><div class=\"sk-parallel-item\"><div class=\"sk-item\"><div class=\"sk-label-container\"><div class=\"sk-label sk-toggleable\"><input class=\"sk-toggleable__control sk-hidden--visually\" id=\"sk-estimator-id-8\" type=\"checkbox\" ><label for=\"sk-estimator-id-8\" class=\"sk-toggleable__label sk-toggleable__label-arrow\">Categorico_2</label><div class=\"sk-toggleable__content\"><pre>[3]</pre></div></div></div><div class=\"sk-serial\"><div class=\"sk-item\"><div class=\"sk-serial\"><div class=\"sk-item\"><div class=\"sk-estimator sk-toggleable\"><input class=\"sk-toggleable__control sk-hidden--visually\" id=\"sk-estimator-id-9\" type=\"checkbox\" ><label for=\"sk-estimator-id-9\" class=\"sk-toggleable__label sk-toggleable__label-arrow\">SimpleImputer</label><div class=\"sk-toggleable__content\"><pre>SimpleImputer(strategy=&#x27;most_frequent&#x27;)</pre></div></div></div><div class=\"sk-item\"><div class=\"sk-estimator sk-toggleable\"><input class=\"sk-toggleable__control sk-hidden--visually\" id=\"sk-estimator-id-10\" type=\"checkbox\" ><label for=\"sk-estimator-id-10\" class=\"sk-toggleable__label sk-toggleable__label-arrow\">OrdinalEncoder</label><div class=\"sk-toggleable__content\"><pre>OrdinalEncoder()</pre></div></div></div></div></div></div></div></div><div class=\"sk-parallel-item\"><div class=\"sk-item\"><div class=\"sk-label-container\"><div class=\"sk-label sk-toggleable\"><input class=\"sk-toggleable__control sk-hidden--visually\" id=\"sk-estimator-id-11\" type=\"checkbox\" ><label for=\"sk-estimator-id-11\" class=\"sk-toggleable__label sk-toggleable__label-arrow\">drop_columns</label><div class=\"sk-toggleable__content\"><pre>[4, 15, 14, 13]</pre></div></div></div><div class=\"sk-serial\"><div class=\"sk-item\"><div class=\"sk-serial\"><div class=\"sk-item\"><div class=\"sk-estimator sk-toggleable\"><input class=\"sk-toggleable__control sk-hidden--visually\" id=\"sk-estimator-id-12\" type=\"checkbox\" ><label for=\"sk-estimator-id-12\" class=\"sk-toggleable__label sk-toggleable__label-arrow\">FunctionTransformer</label><div class=\"sk-toggleable__content\"><pre>FunctionTransformer(func=&lt;function drop_columns at 0x7a8be43ff760&gt;,\n",
              "                    kw_args={&#x27;columns_to_drop&#x27;: [4, 15, 14, 13]})</pre></div></div></div></div></div></div></div></div></div></div></div></div>"
            ]
          },
          "metadata": {},
          "execution_count": 2
        }
      ]
    },
    {
      "cell_type": "code",
      "source": [
        "import pandas as pd\n",
        "\n",
        "input_data = [[21,'unemployed','single','tertiary','no',0,'no'\t,'no'\t,'cellular'\t,19,\t'oct',\t79,\t1,\t-1\t,0\t,\t'no']]\n",
        "input_df = pd.DataFrame(input_data,columns=[\n",
        "    'age', 'job', 'marital', 'education', 'default', 'balance', 'housing', 'loan', 'contact', 'day', 'month', 'duration', 'campaign', 'pdays', 'previous', 'y'\n",
        "])\n",
        "\n",
        "transformer.transform(input_df)"
      ],
      "metadata": {
        "colab": {
          "base_uri": "https://localhost:8080/"
        },
        "id": "4XaoySG2uJrd",
        "outputId": "a5e2c1d2-5fae-406c-824e-02e6d5a69ad6"
      },
      "execution_count": null,
      "outputs": [
        {
          "output_type": "execute_result",
          "data": {
            "text/plain": [
              "array([[0.02835280288916352, 0.022946054613251367, 0.5318543582446509,\n",
              "        ..., 'no', 0, -1]], dtype=object)"
            ]
          },
          "metadata": {},
          "execution_count": 18
        }
      ]
    }
  ]
}